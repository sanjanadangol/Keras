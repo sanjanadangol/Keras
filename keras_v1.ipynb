{
 "cells": [
  {
   "cell_type": "code",
   "execution_count": 2,
   "id": "140d454f",
   "metadata": {},
   "outputs": [],
   "source": [
    "import numpy as np \n",
    "from keras.models import Sequential \n",
    "from keras.layers import Dense, Activation"
   ]
  },
  {
   "cell_type": "markdown",
   "id": "5113ee9d",
   "metadata": {},
   "source": [
    "### Generate dummy training dataset "
   ]
  },
  {
   "cell_type": "code",
   "execution_count": 3,
   "id": "a61867ff",
   "metadata": {},
   "outputs": [],
   "source": [
    "np.random.seed(2)\n",
    "\n",
    "x_train = np.random.random((6000, 10))\n",
    "y_train = np.random.randint(2, size=(6000, 1))"
   ]
  },
  {
   "cell_type": "code",
   "execution_count": 4,
   "id": "bb615bd9",
   "metadata": {},
   "outputs": [
    {
     "data": {
      "text/plain": [
       "array([[0],\n",
       "       [1],\n",
       "       [1],\n",
       "       ...,\n",
       "       [0],\n",
       "       [0],\n",
       "       [0]])"
      ]
     },
     "execution_count": 4,
     "metadata": {},
     "output_type": "execute_result"
    }
   ],
   "source": [
    "y_train"
   ]
  },
  {
   "cell_type": "markdown",
   "id": "d2392d3c",
   "metadata": {},
   "source": [
    "### Generate dummy validation dataset"
   ]
  },
  {
   "cell_type": "code",
   "execution_count": 5,
   "id": "e9d38728",
   "metadata": {},
   "outputs": [],
   "source": [
    "x_val = np.random.random((2000, 10))\n",
    "y_val = np.random.randint(2, size=(2000, 1))"
   ]
  },
  {
   "cell_type": "markdown",
   "id": "ae1067cf",
   "metadata": {},
   "source": [
    "### Generate dummy test dataset"
   ]
  },
  {
   "cell_type": "code",
   "execution_count": 6,
   "id": "37a7da74",
   "metadata": {},
   "outputs": [],
   "source": [
    "x_test = np.random.random((2000,10))\n",
    "y_test = np.random.randint(2, size=(2000, 1))"
   ]
  },
  {
   "cell_type": "markdown",
   "id": "3d9d211e",
   "metadata": {},
   "source": [
    "### Define the model architecture "
   ]
  },
  {
   "cell_type": "code",
   "execution_count": 7,
   "id": "1f3d0f06",
   "metadata": {},
   "outputs": [],
   "source": [
    "model = Sequential()\n",
    "\n",
    "model.add(Dense(64, input_dim=10, activation='relu'))\n",
    "model.add(Dense(32, activation='relu'))\n",
    "model.add(Dense(16, activation='relu'))\n",
    "model.add(Dense(8, activation='relu'))\n",
    "model.add(Dense(4, activation='relu'))\n",
    "model.add(Dense(1, activation='sigmoid'))\n",
    "\n",
    "# Configure the model \n",
    "model.compile(optimizer='Adam', loss='binary_crossentropy', metrics=['accuracy'])"
   ]
  },
  {
   "cell_type": "markdown",
   "id": "bd7c2e4c",
   "metadata": {},
   "source": [
    "### Train the model "
   ]
  },
  {
   "cell_type": "code",
   "execution_count": 8,
   "id": "ade43340",
   "metadata": {},
   "outputs": [
    {
     "name": "stdout",
     "output_type": "stream",
     "text": [
      "Epoch 1/3\n",
      "94/94 [==============================] - 2s 5ms/step - loss: 0.6932 - accuracy: 0.4985 - val_loss: 0.6932 - val_accuracy: 0.4965\n",
      "Epoch 2/3\n",
      "94/94 [==============================] - 0s 3ms/step - loss: 0.6932 - accuracy: 0.4998 - val_loss: 0.6932 - val_accuracy: 0.4965\n",
      "Epoch 3/3\n",
      "94/94 [==============================] - 0s 3ms/step - loss: 0.6932 - accuracy: 0.4998 - val_loss: 0.6932 - val_accuracy: 0.4965\n"
     ]
    },
    {
     "data": {
      "text/plain": [
       "<keras.callbacks.History at 0x2a3b03ade80>"
      ]
     },
     "execution_count": 8,
     "metadata": {},
     "output_type": "execute_result"
    }
   ],
   "source": [
    "model.fit(x_train, y_train, batch_size=64, epochs=3, validation_data=(x_val,y_val), verbose=1)"
   ]
  },
  {
   "cell_type": "code",
   "execution_count": 9,
   "id": "947a1051",
   "metadata": {},
   "outputs": [
    {
     "name": "stdout",
     "output_type": "stream",
     "text": [
      "63/63 - 0s - loss: 0.6932 - accuracy: 0.4730 - 109ms/epoch - 2ms/step\n",
      "[0.6931858658790588, 0.4729999899864197]\n"
     ]
    },
    {
     "data": {
      "text/plain": [
       "[0.6925005965232849, 0.521]"
      ]
     },
     "execution_count": 9,
     "metadata": {},
     "output_type": "execute_result"
    }
   ],
   "source": [
    "print(model.evaluate(x_test, y_test, verbose=2))\n",
    "[0.6925005965232849, 0.521]"
   ]
  },
  {
   "cell_type": "code",
   "execution_count": 10,
   "id": "4aaf3cef",
   "metadata": {},
   "outputs": [
    {
     "name": "stdout",
     "output_type": "stream",
     "text": [
      "['loss', 'accuracy']\n"
     ]
    }
   ],
   "source": [
    "print(model.metrics_names)"
   ]
  },
  {
   "cell_type": "markdown",
   "id": "ead16f4f",
   "metadata": {},
   "source": [
    "### Make predictions on the first ten test datasets"
   ]
  },
  {
   "cell_type": "code",
   "execution_count": 11,
   "id": "40020911",
   "metadata": {},
   "outputs": [
    {
     "name": "stdout",
     "output_type": "stream",
     "text": [
      "63/63 [==============================] - 0s 2ms/step\n"
     ]
    },
    {
     "data": {
      "text/plain": [
       "array([[0.49964437],\n",
       "       [0.49964437],\n",
       "       [0.49964437],\n",
       "       [0.49964437],\n",
       "       [0.49964437],\n",
       "       [0.49964437],\n",
       "       [0.49964437],\n",
       "       [0.49964437],\n",
       "       [0.49964437],\n",
       "       [0.49964437]], dtype=float32)"
      ]
     },
     "execution_count": 11,
     "metadata": {},
     "output_type": "execute_result"
    }
   ],
   "source": [
    "pred = model.predict(x_test)\n",
    "pred[:10]"
   ]
  },
  {
   "cell_type": "code",
   "execution_count": 12,
   "id": "81f80235",
   "metadata": {
    "scrolled": true
   },
   "outputs": [
    {
     "name": "stdout",
     "output_type": "stream",
     "text": [
      "Model: \"sequential\"\n",
      "_________________________________________________________________\n",
      " Layer (type)                Output Shape              Param #   \n",
      "=================================================================\n",
      " dense (Dense)               (None, 64)                704       \n",
      "                                                                 \n",
      " dense_1 (Dense)             (None, 32)                2080      \n",
      "                                                                 \n",
      " dense_2 (Dense)             (None, 16)                528       \n",
      "                                                                 \n",
      " dense_3 (Dense)             (None, 8)                 136       \n",
      "                                                                 \n",
      " dense_4 (Dense)             (None, 4)                 36        \n",
      "                                                                 \n",
      " dense_5 (Dense)             (None, 1)                 5         \n",
      "                                                                 \n",
      "=================================================================\n",
      "Total params: 3,489\n",
      "Trainable params: 3,489\n",
      "Non-trainable params: 0\n",
      "_________________________________________________________________\n"
     ]
    }
   ],
   "source": [
    "model.summary()"
   ]
  },
  {
   "cell_type": "code",
   "execution_count": null,
   "id": "379284c6",
   "metadata": {},
   "outputs": [],
   "source": []
  }
 ],
 "metadata": {
  "kernelspec": {
   "display_name": "Python 3 (ipykernel)",
   "language": "python",
   "name": "python3"
  },
  "language_info": {
   "codemirror_mode": {
    "name": "ipython",
    "version": 3
   },
   "file_extension": ".py",
   "mimetype": "text/x-python",
   "name": "python",
   "nbconvert_exporter": "python",
   "pygments_lexer": "ipython3",
   "version": "3.9.6"
  }
 },
 "nbformat": 4,
 "nbformat_minor": 5
}
